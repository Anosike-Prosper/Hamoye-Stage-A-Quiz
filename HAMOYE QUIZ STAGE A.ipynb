{
 "cells": [
  {
   "cell_type": "markdown",
   "id": "3747cd6b",
   "metadata": {},
   "source": [
    "# NOTEBOOK IMPORT AND PACKAGES"
   ]
  },
  {
   "cell_type": "code",
   "execution_count": 1,
   "id": "50013b1e",
   "metadata": {},
   "outputs": [],
   "source": [
    "import pandas as pd\n",
    "import numpy as np\n",
    "import matplotlib.pyplot as plt\n",
    "import seaborn as sns"
   ]
  },
  {
   "cell_type": "markdown",
   "id": "80477e42",
   "metadata": {},
   "source": [
    "## LOADING AND DESCRIBING THE DATA\n",
    "\n",
    "\n"
   ]
  },
  {
   "cell_type": "code",
   "execution_count": 7,
   "id": "56716dcb",
   "metadata": {},
   "outputs": [
    {
     "data": {
      "text/html": [
       "<div>\n",
       "<style scoped>\n",
       "    .dataframe tbody tr th:only-of-type {\n",
       "        vertical-align: middle;\n",
       "    }\n",
       "\n",
       "    .dataframe tbody tr th {\n",
       "        vertical-align: top;\n",
       "    }\n",
       "\n",
       "    .dataframe thead th {\n",
       "        text-align: right;\n",
       "    }\n",
       "</style>\n",
       "<table border=\"1\" class=\"dataframe\">\n",
       "  <thead>\n",
       "    <tr style=\"text-align: right;\">\n",
       "      <th></th>\n",
       "      <th>record_id</th>\n",
       "      <th>utility_id_ferc1</th>\n",
       "      <th>report_year</th>\n",
       "      <th>plant_name_ferc1</th>\n",
       "      <th>fuel_type_code_pudl</th>\n",
       "      <th>fuel_unit</th>\n",
       "      <th>fuel_qty_burned</th>\n",
       "      <th>fuel_mmbtu_per_unit</th>\n",
       "      <th>fuel_cost_per_unit_burned</th>\n",
       "      <th>fuel_cost_per_unit_delivered</th>\n",
       "      <th>fuel_cost_per_mmbtu</th>\n",
       "    </tr>\n",
       "  </thead>\n",
       "  <tbody>\n",
       "    <tr>\n",
       "      <th>0</th>\n",
       "      <td>f1_fuel_1994_12_1_0_7</td>\n",
       "      <td>1</td>\n",
       "      <td>1994</td>\n",
       "      <td>rockport</td>\n",
       "      <td>coal</td>\n",
       "      <td>ton</td>\n",
       "      <td>5377489.0</td>\n",
       "      <td>16.590</td>\n",
       "      <td>18.59</td>\n",
       "      <td>18.53</td>\n",
       "      <td>1.121</td>\n",
       "    </tr>\n",
       "    <tr>\n",
       "      <th>1</th>\n",
       "      <td>f1_fuel_1994_12_1_0_10</td>\n",
       "      <td>1</td>\n",
       "      <td>1994</td>\n",
       "      <td>rockport total plant</td>\n",
       "      <td>coal</td>\n",
       "      <td>ton</td>\n",
       "      <td>10486945.0</td>\n",
       "      <td>16.592</td>\n",
       "      <td>18.58</td>\n",
       "      <td>18.53</td>\n",
       "      <td>1.120</td>\n",
       "    </tr>\n",
       "    <tr>\n",
       "      <th>2</th>\n",
       "      <td>f1_fuel_1994_12_2_0_1</td>\n",
       "      <td>2</td>\n",
       "      <td>1994</td>\n",
       "      <td>gorgas</td>\n",
       "      <td>coal</td>\n",
       "      <td>ton</td>\n",
       "      <td>2978683.0</td>\n",
       "      <td>24.130</td>\n",
       "      <td>39.72</td>\n",
       "      <td>38.12</td>\n",
       "      <td>1.650</td>\n",
       "    </tr>\n",
       "    <tr>\n",
       "      <th>3</th>\n",
       "      <td>f1_fuel_1994_12_2_0_7</td>\n",
       "      <td>2</td>\n",
       "      <td>1994</td>\n",
       "      <td>barry</td>\n",
       "      <td>coal</td>\n",
       "      <td>ton</td>\n",
       "      <td>3739484.0</td>\n",
       "      <td>23.950</td>\n",
       "      <td>47.21</td>\n",
       "      <td>45.99</td>\n",
       "      <td>1.970</td>\n",
       "    </tr>\n",
       "    <tr>\n",
       "      <th>4</th>\n",
       "      <td>f1_fuel_1994_12_2_0_10</td>\n",
       "      <td>2</td>\n",
       "      <td>1994</td>\n",
       "      <td>chickasaw</td>\n",
       "      <td>gas</td>\n",
       "      <td>mcf</td>\n",
       "      <td>40533.0</td>\n",
       "      <td>1.000</td>\n",
       "      <td>2.77</td>\n",
       "      <td>2.77</td>\n",
       "      <td>2.570</td>\n",
       "    </tr>\n",
       "  </tbody>\n",
       "</table>\n",
       "</div>"
      ],
      "text/plain": [
       "                record_id  utility_id_ferc1  report_year  \\\n",
       "0   f1_fuel_1994_12_1_0_7                 1         1994   \n",
       "1  f1_fuel_1994_12_1_0_10                 1         1994   \n",
       "2   f1_fuel_1994_12_2_0_1                 2         1994   \n",
       "3   f1_fuel_1994_12_2_0_7                 2         1994   \n",
       "4  f1_fuel_1994_12_2_0_10                 2         1994   \n",
       "\n",
       "       plant_name_ferc1 fuel_type_code_pudl fuel_unit  fuel_qty_burned  \\\n",
       "0              rockport                coal       ton        5377489.0   \n",
       "1  rockport total plant                coal       ton       10486945.0   \n",
       "2                gorgas                coal       ton        2978683.0   \n",
       "3                 barry                coal       ton        3739484.0   \n",
       "4             chickasaw                 gas       mcf          40533.0   \n",
       "\n",
       "   fuel_mmbtu_per_unit  fuel_cost_per_unit_burned  \\\n",
       "0               16.590                      18.59   \n",
       "1               16.592                      18.58   \n",
       "2               24.130                      39.72   \n",
       "3               23.950                      47.21   \n",
       "4                1.000                       2.77   \n",
       "\n",
       "   fuel_cost_per_unit_delivered  fuel_cost_per_mmbtu  \n",
       "0                         18.53                1.121  \n",
       "1                         18.53                1.120  \n",
       "2                         38.12                1.650  \n",
       "3                         45.99                1.970  \n",
       "4                          2.77                2.570  "
      ]
     },
     "execution_count": 7,
     "metadata": {},
     "output_type": "execute_result"
    }
   ],
   "source": [
    "# LOADING THE DATA\n",
    "\n",
    "fuel_data= pd.read_csv('fuel_ferc1.csv', error_bad_lines= False)    \n",
    "\n",
    "fuel_data.head()"
   ]
  },
  {
   "cell_type": "code",
   "execution_count": 10,
   "id": "3839b629",
   "metadata": {},
   "outputs": [
    {
     "data": {
      "text/html": [
       "<div>\n",
       "<style scoped>\n",
       "    .dataframe tbody tr th:only-of-type {\n",
       "        vertical-align: middle;\n",
       "    }\n",
       "\n",
       "    .dataframe tbody tr th {\n",
       "        vertical-align: top;\n",
       "    }\n",
       "\n",
       "    .dataframe thead th {\n",
       "        text-align: right;\n",
       "    }\n",
       "</style>\n",
       "<table border=\"1\" class=\"dataframe\">\n",
       "  <thead>\n",
       "    <tr style=\"text-align: right;\">\n",
       "      <th></th>\n",
       "      <th>utility_id_ferc1</th>\n",
       "      <th>report_year</th>\n",
       "      <th>fuel_qty_burned</th>\n",
       "      <th>fuel_mmbtu_per_unit</th>\n",
       "      <th>fuel_cost_per_unit_burned</th>\n",
       "      <th>fuel_cost_per_unit_delivered</th>\n",
       "      <th>fuel_cost_per_mmbtu</th>\n",
       "    </tr>\n",
       "  </thead>\n",
       "  <tbody>\n",
       "    <tr>\n",
       "      <th>count</th>\n",
       "      <td>29523.000000</td>\n",
       "      <td>29523.000000</td>\n",
       "      <td>2.952300e+04</td>\n",
       "      <td>29523.000000</td>\n",
       "      <td>29523.000000</td>\n",
       "      <td>2.952300e+04</td>\n",
       "      <td>29523.000000</td>\n",
       "    </tr>\n",
       "    <tr>\n",
       "      <th>mean</th>\n",
       "      <td>118.601836</td>\n",
       "      <td>2005.806050</td>\n",
       "      <td>2.622119e+06</td>\n",
       "      <td>8.492111</td>\n",
       "      <td>208.649031</td>\n",
       "      <td>9.175704e+02</td>\n",
       "      <td>19.304354</td>\n",
       "    </tr>\n",
       "    <tr>\n",
       "      <th>std</th>\n",
       "      <td>74.178353</td>\n",
       "      <td>7.025483</td>\n",
       "      <td>9.118004e+06</td>\n",
       "      <td>10.600220</td>\n",
       "      <td>2854.490090</td>\n",
       "      <td>6.877593e+04</td>\n",
       "      <td>2091.540939</td>\n",
       "    </tr>\n",
       "    <tr>\n",
       "      <th>min</th>\n",
       "      <td>1.000000</td>\n",
       "      <td>1994.000000</td>\n",
       "      <td>1.000000e+00</td>\n",
       "      <td>0.000001</td>\n",
       "      <td>-276.080000</td>\n",
       "      <td>-8.749370e+02</td>\n",
       "      <td>-41.501000</td>\n",
       "    </tr>\n",
       "    <tr>\n",
       "      <th>25%</th>\n",
       "      <td>55.000000</td>\n",
       "      <td>2000.000000</td>\n",
       "      <td>1.381700e+04</td>\n",
       "      <td>1.024000</td>\n",
       "      <td>5.207000</td>\n",
       "      <td>3.778500e+00</td>\n",
       "      <td>1.940000</td>\n",
       "    </tr>\n",
       "    <tr>\n",
       "      <th>50%</th>\n",
       "      <td>122.000000</td>\n",
       "      <td>2006.000000</td>\n",
       "      <td>2.533220e+05</td>\n",
       "      <td>5.762694</td>\n",
       "      <td>26.000000</td>\n",
       "      <td>1.737100e+01</td>\n",
       "      <td>4.127000</td>\n",
       "    </tr>\n",
       "    <tr>\n",
       "      <th>75%</th>\n",
       "      <td>176.000000</td>\n",
       "      <td>2012.000000</td>\n",
       "      <td>1.424034e+06</td>\n",
       "      <td>17.006000</td>\n",
       "      <td>47.113000</td>\n",
       "      <td>4.213700e+01</td>\n",
       "      <td>7.745000</td>\n",
       "    </tr>\n",
       "    <tr>\n",
       "      <th>max</th>\n",
       "      <td>514.000000</td>\n",
       "      <td>2018.000000</td>\n",
       "      <td>5.558942e+08</td>\n",
       "      <td>341.260000</td>\n",
       "      <td>139358.000000</td>\n",
       "      <td>7.964521e+06</td>\n",
       "      <td>359278.000000</td>\n",
       "    </tr>\n",
       "  </tbody>\n",
       "</table>\n",
       "</div>"
      ],
      "text/plain": [
       "       utility_id_ferc1   report_year  fuel_qty_burned  fuel_mmbtu_per_unit  \\\n",
       "count      29523.000000  29523.000000     2.952300e+04         29523.000000   \n",
       "mean         118.601836   2005.806050     2.622119e+06             8.492111   \n",
       "std           74.178353      7.025483     9.118004e+06            10.600220   \n",
       "min            1.000000   1994.000000     1.000000e+00             0.000001   \n",
       "25%           55.000000   2000.000000     1.381700e+04             1.024000   \n",
       "50%          122.000000   2006.000000     2.533220e+05             5.762694   \n",
       "75%          176.000000   2012.000000     1.424034e+06            17.006000   \n",
       "max          514.000000   2018.000000     5.558942e+08           341.260000   \n",
       "\n",
       "       fuel_cost_per_unit_burned  fuel_cost_per_unit_delivered  \\\n",
       "count               29523.000000                  2.952300e+04   \n",
       "mean                  208.649031                  9.175704e+02   \n",
       "std                  2854.490090                  6.877593e+04   \n",
       "min                  -276.080000                 -8.749370e+02   \n",
       "25%                     5.207000                  3.778500e+00   \n",
       "50%                    26.000000                  1.737100e+01   \n",
       "75%                    47.113000                  4.213700e+01   \n",
       "max                139358.000000                  7.964521e+06   \n",
       "\n",
       "       fuel_cost_per_mmbtu  \n",
       "count         29523.000000  \n",
       "mean             19.304354  \n",
       "std            2091.540939  \n",
       "min             -41.501000  \n",
       "25%               1.940000  \n",
       "50%               4.127000  \n",
       "75%               7.745000  \n",
       "max          359278.000000  "
      ]
     },
     "execution_count": 10,
     "metadata": {},
     "output_type": "execute_result"
    }
   ],
   "source": [
    "# DESCRIBING THE DATA\n",
    "# this gives us the summary statistics like the mean, median, mode, standard deviation and percentiles(25th, 50th, 75th) etc\n",
    "\n",
    "\n",
    "fuel_data.describe()  # this excludes all the Nan values"
   ]
  },
  {
   "cell_type": "markdown",
   "id": "23659204",
   "metadata": {},
   "source": [
    "# Question 1\n",
    "\n",
    "If you are given two lists: \n",
    "\n",
    "A = [1, 2, 3, 4, 5, 6], B = [13, 21, 34] \n",
    "\n",
    "The task is to create a list with the dimesion of A and B in a single dimenstion with output: \n",
    "\n",
    "A_B = [1, 2, 3, 4, 5, 6, 13, 21, 34] "
   ]
  },
  {
   "cell_type": "markdown",
   "id": "da17e75b",
   "metadata": {},
   "source": [
    "Answer : None of the above\n",
    "\n",
    "Explanation of my answer: the append and extend function only updates the value in an already existing list. They cannot be used to create a new list with a single dimension"
   ]
  },
  {
   "cell_type": "markdown",
   "id": "a0310fd9",
   "metadata": {},
   "source": [
    "# Question 2\n",
    "\n",
    "\n",
    "How do you create an identity matrix"
   ]
  },
  {
   "cell_type": "markdown",
   "id": "47160a72",
   "metadata": {},
   "source": [
    "Answer: np.eye(3) \n",
    "\n",
    "An identity matrix is a matrix that has ones in its diagonal and every other value remains zero\n",
    "\n",
    "Explanation of my answer: There were three possible answers in the option, but I chose the numpy eye function  because it can take different dimensions unlike the numpy identity function which only takes a value. Moreso, there was also a numpy array function which was also a possible answer"
   ]
  },
  {
   "cell_type": "markdown",
   "id": "0c6ec1cf",
   "metadata": {},
   "source": [
    "# Quesion 3\n",
    "\n",
    "Which of the following fuel type code has the lowest average fuel cost per unit burned?"
   ]
  },
  {
   "cell_type": "code",
   "execution_count": 66,
   "id": "dec2ff56",
   "metadata": {},
   "outputs": [
    {
     "name": "stdout",
     "output_type": "stream",
     "text": [
      "fuel_type_code_pudl\n",
      "nuclear    4955.157002\n",
      "oil         168.877086\n",
      "coal         67.421830\n",
      "waste        19.518122\n",
      "other        18.253856\n",
      "gas          13.659397\n",
      "Name: fuel_cost_per_unit_burned, dtype: float64\n",
      "the fuel type code with the lowest average fuel cost per unit is Gas with value: 13.659396569737135\n"
     ]
    }
   ],
   "source": [
    "fuel_data.groupby('fuel_type_code_pudl')\n",
    "\n",
    "lowest_avg_fuel_type= fuel_data.groupby('fuel_type_code_pudl')['fuel_cost_per_unit_burned'].mean().sort_values(ascending= False)\n",
    "print(lowest_avg_fuel_type)\n",
    "\n",
    "\n",
    "print('the fuel type code with the lowest average fuel cost per unit is Gas with value:', lowest_avg_fuel_type[5])"
   ]
  },
  {
   "cell_type": "markdown",
   "id": "22c171b0",
   "metadata": {},
   "source": [
    "Answer: Gas"
   ]
  },
  {
   "cell_type": "markdown",
   "id": "85b5bf9c",
   "metadata": {},
   "source": [
    "# Question 4\n",
    "\n",
    "What is the standard deviation and the 75th percentile of the measure of energy per unit (Fuel_mmbtu_per_unit) in two decimal places?"
   ]
  },
  {
   "cell_type": "code",
   "execution_count": 69,
   "id": "c932d78f",
   "metadata": {},
   "outputs": [
    {
     "name": "stdout",
     "output_type": "stream",
     "text": [
      "the standard deviation of fuel mmbtu per unit to 2dp: 10.6\n",
      "the 75th percentile of fuel mmbtu per unit to 2dp: 17.01\n"
     ]
    }
   ],
   "source": [
    "# standard deviation\n",
    "std_fuel_mmbtu= fuel_data['fuel_mmbtu_per_unit'].std()\n",
    "print('the standard deviation of fuel mmbtu per unit to 2dp:', np.around(std_fuel_mmbtu, 2))\n",
    "\n",
    "\n",
    "# 75th percentile\n",
    "fuel_mmbtu= np.array(fuel_data['fuel_mmbtu_per_unit'])\n",
    "percentile_fuel_mmbtu= np.percentile(fuel_mmbtu, 75)\n",
    "\n",
    "print('the 75th percentile of fuel mmbtu per unit to 2dp:', np.around(percentile_fuel_mmbtu, 2))\n",
    "\n"
   ]
  },
  {
   "cell_type": "markdown",
   "id": "65a55e99",
   "metadata": {},
   "source": [
    "Answer: 10.6 and 17.01"
   ]
  },
  {
   "cell_type": "markdown",
   "id": "07733ab4",
   "metadata": {},
   "source": [
    "# Question 5\n",
    "\n",
    "What is the skewness and kurtosis for the fuel quality burned in two decimal places?"
   ]
  },
  {
   "cell_type": "code",
   "execution_count": 68,
   "id": "777f8215",
   "metadata": {},
   "outputs": [
    {
     "name": "stdout",
     "output_type": "stream",
     "text": [
      "the skewness of fuel qty burned to 2dp: 15.85\n",
      "the kurtosis of fuel qty burned to 2dp: 651.37\n"
     ]
    }
   ],
   "source": [
    "#skewness\n",
    "fuel_qty_burned= fuel_data['fuel_qty_burned']\n",
    "\n",
    "skew_fuel_qty_burned= fuel_qty_burned.skew()\n",
    "\n",
    "# kurtosis\n",
    "kurtosis_fuel_qty_burned= fuel_qty_burned.kurtosis()\n",
    "\n",
    "#Result\n",
    "print('the skewness of fuel qty burned to 2dp:', np.around(skew_fuel_qty_burned, 2) )\n",
    "print('the kurtosis of fuel qty burned to 2dp:', np.around(kurtosis_fuel_qty_burned, 2))"
   ]
  },
  {
   "cell_type": "markdown",
   "id": "23bc84fb",
   "metadata": {},
   "source": [
    "Answer: 15.85 and 651.37"
   ]
  },
  {
   "cell_type": "code",
   "execution_count": null,
   "id": "733f935d",
   "metadata": {},
   "outputs": [],
   "source": []
  },
  {
   "cell_type": "markdown",
   "id": "31a9cce4",
   "metadata": {},
   "source": [
    "# Question 6\n",
    "which of the features has missing values and what is the total number of missing value and percentage of the misssing rows as a factor of the total number of rows in three decimal places?"
   ]
  },
  {
   "cell_type": "code",
   "execution_count": 70,
   "id": "0dfb51a7",
   "metadata": {},
   "outputs": [
    {
     "name": "stdout",
     "output_type": "stream",
     "text": [
      "the feature with missing values: fuel_unit\n",
      "the total number of missing values 180\n",
      "the percentage of the missing row 0.609694136774718\n"
     ]
    }
   ],
   "source": [
    "# the feature\n",
    "feature_missing= fuel_data.isnull().any().index[5]\n",
    "\n",
    "print('the feature with missing values:', feature_missing)\n",
    "\n",
    "# the total number of missing values\n",
    "num_missing_vals= fuel_data.isnull().sum()[5]\n",
    "\n",
    "print('the total number of missing values', num_missing_vals)\n",
    "\n",
    "# the percentage of the missing rows as a factor of the total number of rows\n",
    "percent= (num_missing_vals / fuel_data.shape[0]) * 100\n",
    "\n",
    "print('the percentage of the missing row',percent)"
   ]
  },
  {
   "cell_type": "code",
   "execution_count": 45,
   "id": "bf0d99dc",
   "metadata": {},
   "outputs": [
    {
     "name": "stdout",
     "output_type": "stream",
     "text": [
      "     Feature  Total  Percent\n",
      "0  fuel_unit    180     0.61\n"
     ]
    }
   ],
   "source": [
    "df= pd.DataFrame({'Feature': feature_missing, 'Total': num_missing_vals, 'Percent': round(percent,3)}, index= [0])\n",
    "\n",
    "print(df)"
   ]
  },
  {
   "cell_type": "markdown",
   "id": "264109a9",
   "metadata": {},
   "source": [
    "Answer: \n",
    "    \n",
    "Feature: fuel_unit, Total: 180, Percent: 0.61"
   ]
  },
  {
   "cell_type": "markdown",
   "id": "0650a721",
   "metadata": {},
   "source": [
    "# Question 7\n",
    "\n",
    "The feature with missing values falls under what category? What missing value imputation technique would you use?"
   ]
  },
  {
   "cell_type": "code",
   "execution_count": 49,
   "id": "e2a7fe91",
   "metadata": {},
   "outputs": [
    {
     "data": {
      "text/plain": [
       "record_id                       False\n",
       "utility_id_ferc1                False\n",
       "report_year                     False\n",
       "plant_name_ferc1                False\n",
       "fuel_type_code_pudl             False\n",
       "fuel_unit                        True\n",
       "fuel_qty_burned                 False\n",
       "fuel_mmbtu_per_unit             False\n",
       "fuel_cost_per_unit_burned       False\n",
       "fuel_cost_per_unit_delivered    False\n",
       "fuel_cost_per_mmbtu             False\n",
       "dtype: bool"
      ]
     },
     "execution_count": 49,
     "metadata": {},
     "output_type": "execute_result"
    }
   ],
   "source": [
    "fuel_data.isnull().any()"
   ]
  },
  {
   "cell_type": "code",
   "execution_count": 53,
   "id": "e79c710d",
   "metadata": {},
   "outputs": [
    {
     "data": {
      "text/plain": [
       "True"
      ]
     },
     "execution_count": 53,
     "metadata": {},
     "output_type": "execute_result"
    }
   ],
   "source": [
    "fuel_data['fuel_unit'].isnull().any() # fuel_unit isnull value is true which shows that there are missing values in the column"
   ]
  },
  {
   "cell_type": "markdown",
   "id": "a4d6118f",
   "metadata": {},
   "source": [
    "Answer: None of the above\n",
    "    \n",
    "Explanation of my answer: \n",
    "\n",
    "from the above, the feature with missing value is fuel_unit which falls under the categorical data. \n",
    "\n",
    "the missing value imputation will be: fuel_data['fuel_unit'] = fuel_data['fuel_unit'].fillna('a string or value')\n"
   ]
  },
  {
   "cell_type": "markdown",
   "id": "4238ebaf",
   "metadata": {},
   "source": [
    "# Question 8\n",
    "\n",
    "which of the features has the second and third lowest correlation with the fuel cost per unit burned?"
   ]
  },
  {
   "cell_type": "code",
   "execution_count": 81,
   "id": "a54c15b3",
   "metadata": {},
   "outputs": [
    {
     "data": {
      "text/plain": [
       "fuel_cost_per_unit_burned       1.000000\n",
       "report_year                     0.013599\n",
       "fuel_cost_per_unit_delivered    0.011007\n",
       "fuel_cost_per_mmbtu            -0.000437\n",
       "fuel_mmbtu_per_unit            -0.010034\n",
       "fuel_qty_burned                -0.018535\n",
       "utility_id_ferc1               -0.037863\n",
       "Name: fuel_cost_per_unit_burned, dtype: float64"
      ]
     },
     "execution_count": 81,
     "metadata": {},
     "output_type": "execute_result"
    }
   ],
   "source": [
    "fuel_data.corr().loc['fuel_cost_per_unit_burned'].sort_values(ascending= False)"
   ]
  },
  {
   "cell_type": "markdown",
   "id": "81c01485",
   "metadata": {},
   "source": [
    "Answer: fuel_qty_burned and fuel_mmbtu_per_unit"
   ]
  },
  {
   "cell_type": "markdown",
   "id": "9c5550db",
   "metadata": {},
   "source": [
    "# Question 9\n",
    "\n",
    "For the fuel type coal, what is the percentage change in the fuel cost per unit burned in 1998 compared to 1994?"
   ]
  },
  {
   "cell_type": "code",
   "execution_count": 83,
   "id": "b1819561",
   "metadata": {},
   "outputs": [
    {
     "name": "stdout",
     "output_type": "stream",
     "text": [
      "report_year  fuel_type_code_pudl\n",
      "1994         coal                    14984.572\n",
      "             gas                     10792.496\n",
      "             nuclear                227983.354\n",
      "             oil                      9362.194\n",
      "             other                     116.737\n",
      "                                       ...    \n",
      "2018         coal                     9488.197\n",
      "             gas                      4322.494\n",
      "             nuclear                173267.161\n",
      "             oil                     33836.602\n",
      "             waste                     660.972\n",
      "Name: fuel_cost_per_unit_burned, Length: 148, dtype: float64\n"
     ]
    }
   ],
   "source": [
    "cost_years= fuel_data.groupby(['report_year', 'fuel_type_code_pudl'])['fuel_cost_per_unit_burned'].sum()\n",
    "\n",
    "print(cost_years)"
   ]
  },
  {
   "cell_type": "code",
   "execution_count": 85,
   "id": "f8747ecf",
   "metadata": {},
   "outputs": [
    {
     "name": "stdout",
     "output_type": "stream",
     "text": [
      "fuel type coal 1994: 14984.572000000011\n",
      "fuel type coal 1998: 14984.572000000011\n",
      "the percentage change in the fuel cost per unit burned: -20.56765451826049\n"
     ]
    }
   ],
   "source": [
    "#coal 1994\n",
    "coal_year_1994= cost_years.loc[1994, 'coal']\n",
    "\n",
    "print('fuel type coal 1994:', coal_year_1994)\n",
    "\n",
    "# coal 1998\n",
    "coal_year_1998= cost_years.loc[1998, 'coal']\n",
    "\n",
    "print('fuel type coal 1998:', coal_year_1994)\n",
    "\n",
    "# percentage change\n",
    "\n",
    "percentage_change= ((coal_year_1998 - coal_year_1994) / coal_year_1994) * 100\n",
    "\n",
    "print('the percentage change in the fuel cost per unit burned:', percentage_change)\n"
   ]
  },
  {
   "cell_type": "markdown",
   "id": "d93456bf",
   "metadata": {},
   "source": [
    "Answer: -20.56765451826049"
   ]
  },
  {
   "cell_type": "markdown",
   "id": "20ad06e7",
   "metadata": {},
   "source": [
    "# Question 10\n",
    "\n",
    "what year has the highest average fuel cost per unit delivered?"
   ]
  },
  {
   "cell_type": "code",
   "execution_count": 63,
   "id": "847a0520",
   "metadata": {},
   "outputs": [
    {
     "name": "stdout",
     "output_type": "stream",
     "text": [
      "report_year\n",
      "1997    11140.197239\n",
      "1996     9196.705948\n",
      "2000      985.362877\n",
      "2009      652.694163\n",
      "2018      499.269966\n",
      "2015      326.535511\n",
      "1998      287.154420\n",
      "2014      192.737183\n",
      "2013      172.307591\n",
      "2004      139.524275\n",
      "2016      103.901761\n",
      "2010       91.862105\n",
      "1994       63.636060\n",
      "2012       60.994502\n",
      "2001       60.050396\n",
      "2011       59.774667\n",
      "2008       58.588197\n",
      "2003       55.663493\n",
      "2002       47.594361\n",
      "2017       46.196861\n",
      "2007       43.325023\n",
      "2005       41.438184\n",
      "2006       38.657484\n",
      "1995       32.735269\n",
      "1999       25.551627\n",
      "Name: fuel_cost_per_unit_delivered, dtype: float64\n",
      "the year with the highest average fuel cost per unit delivered is 1997 with value:  11140.19723948813\n"
     ]
    }
   ],
   "source": [
    "fuel_data.groupby('report_year')\n",
    "\n",
    "high_avg_fuel_cost= fuel_data.groupby('report_year')['fuel_cost_per_unit_delivered'].mean().sort_values(ascending= False)\n",
    "\n",
    "print(high_avg_fuel_cost)\n",
    "print('the year with the highest average fuel cost per unit delivered is 1997 with value: ', high_avg_fuel_cost.iloc[0])"
   ]
  },
  {
   "cell_type": "markdown",
   "id": "4d9d6476",
   "metadata": {},
   "source": [
    "Answer: 1997"
   ]
  },
  {
   "cell_type": "code",
   "execution_count": null,
   "id": "2be121c7",
   "metadata": {},
   "outputs": [],
   "source": []
  },
  {
   "cell_type": "code",
   "execution_count": null,
   "id": "f416465d",
   "metadata": {},
   "outputs": [],
   "source": []
  },
  {
   "cell_type": "code",
   "execution_count": null,
   "id": "51a7ebcf",
   "metadata": {},
   "outputs": [],
   "source": []
  },
  {
   "cell_type": "code",
   "execution_count": null,
   "id": "8710813f",
   "metadata": {},
   "outputs": [],
   "source": []
  },
  {
   "cell_type": "code",
   "execution_count": null,
   "id": "2e29eb74",
   "metadata": {},
   "outputs": [],
   "source": []
  }
 ],
 "metadata": {
  "kernelspec": {
   "display_name": "Python 3",
   "language": "python",
   "name": "python3"
  },
  "language_info": {
   "codemirror_mode": {
    "name": "ipython",
    "version": 3
   },
   "file_extension": ".py",
   "mimetype": "text/x-python",
   "name": "python",
   "nbconvert_exporter": "python",
   "pygments_lexer": "ipython3",
   "version": "3.8.8"
  }
 },
 "nbformat": 4,
 "nbformat_minor": 5
}
